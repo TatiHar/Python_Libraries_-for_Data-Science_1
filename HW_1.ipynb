{
 "cells": [
  {
   "cell_type": "markdown",
   "metadata": {},
   "source": [
    "1"
   ]
  },
  {
   "cell_type": "markdown",
   "metadata": {},
   "source": [
    "Precision: примером может служить задача с входом на важный объект. Нам нужно допускать только сотрудников и отсортировывать других людей. Становиться важнее false positive. Если сотрудника не пропустит система, то это не столь опасно, если же система пропустит постороннего."
   ]
  },
  {
   "cell_type": "markdown",
   "metadata": {},
   "source": [
    "Recall: тут же противоположная ситуация. Для нас важно не допустить варианта false negative. Например, при тестировании на парентеральные гепатиты. Для нас важно максимально охватить пациентов, даже если результат будет false positive."
   ]
  },
  {
   "cell_type": "markdown",
   "metadata": {},
   "source": [
    "2"
   ]
  },
  {
   "cell_type": "markdown",
   "metadata": {},
   "source": [
    "F-мера позволяет позволяет оценить Precision и Recall в комплексе, а так же уменьшать или увеличивать их влияние"
   ]
  }
 ],
 "metadata": {
  "kernelspec": {
   "display_name": "Python 3",
   "language": "python",
   "name": "python3"
  },
  "language_info": {
   "codemirror_mode": {
    "name": "ipython",
    "version": 3
   },
   "file_extension": ".py",
   "mimetype": "text/x-python",
   "name": "python",
   "nbconvert_exporter": "python",
   "pygments_lexer": "ipython3",
   "version": "3.8.3"
  }
 },
 "nbformat": 4,
 "nbformat_minor": 4
}
